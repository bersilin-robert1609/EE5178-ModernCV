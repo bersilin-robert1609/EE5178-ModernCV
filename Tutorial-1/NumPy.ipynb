{
  "cells": [
    {
      "cell_type": "markdown",
      "metadata": {
        "colab_type": "text",
        "id": "view-in-github"
      },
      "source": [
        "<a href=\"https://colab.research.google.com/github/Rohith-Rongali/EE5179-2023/blob/main/Tutorials/Tutorial-1/NumPy.ipynb\" target=\"_parent\"><img src=\"https://colab.research.google.com/assets/colab-badge.svg\" alt=\"Open In Colab\"/></a>\n"
      ]
    },
    {
      "cell_type": "code",
      "execution_count": 26,
      "metadata": {
        "id": "alrXoCflGKM8"
      },
      "outputs": [
        {
          "name": "stdout",
          "output_type": "stream",
          "text": [
            "1.26.3\n"
          ]
        }
      ],
      "source": [
        "import numpy as np\n",
        "print(np.__version__)\n",
        "import matplotlib.pylab as plt"
      ]
    },
    {
      "cell_type": "markdown",
      "metadata": {
        "id": "C6DUK8dwjExh"
      },
      "source": [
        "# Numpy Basics:\n"
      ]
    },
    {
      "cell_type": "markdown",
      "metadata": {
        "id": "9x-UquUqkMWs"
      },
      "source": [
        "**Exercise #1:** Creating a numpy array with particular value\n",
        "\n",
        "**Your Task** Create a numpy array with size 2\\*3 with all elements as 5.\n"
      ]
    },
    {
      "cell_type": "code",
      "execution_count": 27,
      "metadata": {
        "id": "jyhhYUA4kpqj"
      },
      "outputs": [
        {
          "name": "stdout",
          "output_type": "stream",
          "text": [
            "[[5 5 5]\n",
            " [5 5 5]]\n"
          ]
        }
      ],
      "source": [
        "# YOUR CODE STARTS HERE\n",
        "\n",
        "arr = np.ones((2, 3), dtype=np.int32) * 5\n",
        "\n",
        "# YOUR CODE ENDS HERE\n",
        "print(arr)"
      ]
    },
    {
      "cell_type": "markdown",
      "metadata": {
        "id": "5NaczYqflEd5"
      },
      "source": [
        "**Exercise #2:** Creating a numpy array with _random_ value\n",
        "\n",
        "**Your Task** Create a numpy array with size 2\\*3 with all random values\n"
      ]
    },
    {
      "cell_type": "code",
      "execution_count": 28,
      "metadata": {
        "id": "9H2HQNC9lL-0"
      },
      "outputs": [
        {
          "name": "stdout",
          "output_type": "stream",
          "text": [
            "[[0.79381733 0.83422951 0.73275512]\n",
            " [0.20692782 0.40788956 0.64557822]]\n"
          ]
        }
      ],
      "source": [
        "# YOUR CODE STARTS HERE\n",
        "\n",
        "rng = np.random.default_rng()\n",
        "rand_arr = rng.random((2, 3))\n",
        "\n",
        "# YOUR CODE ENDS HERE\n",
        "print(rand_arr)"
      ]
    },
    {
      "cell_type": "markdown",
      "metadata": {
        "id": "uT4LJPBFldNc"
      },
      "source": [
        "**Exercise #3:** Basic NumPy operatrions\n",
        "\n",
        "**Your Task** For the random array `arr`defined above, find the `sum` of all the elements, `mean`, `maximum` and `minimum` value\n"
      ]
    },
    {
      "cell_type": "code",
      "execution_count": 29,
      "metadata": {
        "id": "UDrDaAK4l5gq"
      },
      "outputs": [
        {
          "name": "stdout",
          "output_type": "stream",
          "text": [
            "sum: 3.6211975518805883\n",
            "mean: 0.6035329253134314\n",
            "max: 0.8342295089413844\n",
            "min:0.20692781687061246\n"
          ]
        }
      ],
      "source": [
        "#YOUR CODE STARTS HERE\n",
        "\n",
        "arr_sum = np.sum(rand_arr)\n",
        "arr_mean = np.mean(rand_arr)\n",
        "arr_max = np.max(rand_arr)\n",
        "arr_min = np.min(rand_arr)\n",
        "\n",
        "#YOUR CODE ENDS HERE\n",
        "\n",
        "print(f'sum: {arr_sum}\\nmean: {arr_mean}\\nmax: {arr_max}\\nmin:{arr_min}')"
      ]
    },
    {
      "cell_type": "markdown",
      "metadata": {
        "id": "JzoFSwHjl3dW"
      },
      "source": [
        "**Exercise #4:** `argmin` and `argmax`\n",
        "\n",
        "**Your Task** For the random array `arr`defined below:\n",
        "\n",
        "- Find the position of maximum and minimum value of above array\n",
        "- Find the indices of maximum and minimum value along each of its columns.\n",
        "- Find the indices of maximum and minimum value along each of the its rows.\n"
      ]
    },
    {
      "cell_type": "code",
      "execution_count": 30,
      "metadata": {
        "id": "VBawwx5KmpZR"
      },
      "outputs": [
        {
          "name": "stdout",
          "output_type": "stream",
          "text": [
            "Array:\n",
            "[[ 5 12 51 25]\n",
            " [25 29  2 27]]\n",
            "\n",
            "Position of maximum value: 2 = [0, 2]\n",
            "Position of minimum value: 6 = [1, 2]\n",
            "Positions of maximum value along all the columns is: [1 1 0 1]\n",
            "Positions of maximum value along all the rows is: [2 1]\n"
          ]
        }
      ],
      "source": [
        "# Define an array\n",
        "arr = np.array([[5,12,51,25] ,[25,29,2,27]])\n",
        "print(f'Array:\\n{arr}\\n')\n",
        "\n",
        "# YOUR CODE STARTS HERE\n",
        "\n",
        "#Find the position of maximum and minimum value of above array\n",
        "\n",
        "max_pos = np.argmax(arr)\n",
        "max_pos_x = max_pos // arr.shape[1]\n",
        "max_pos_y = max_pos % arr.shape[1]\n",
        "\n",
        "min_pos = np.argmin(arr)\n",
        "min_pos_x = min_pos //arr.shape[1]\n",
        "min_pos_y = min_pos % arr.shape[1]\n",
        "\n",
        "#Find the indices of maximum and minimum value along each of its columns.\n",
        "\n",
        "max_pos_col = np.argmax(arr, 0)\n",
        "\n",
        "#Find the indices of maximum and minimum value along each of the its rows.\n",
        "\n",
        "max_pos_row = np.argmax(arr, 1)\n",
        "\n",
        "#YOUR CODE ENDS HERE\n",
        "\n",
        "print(\"Position of maximum value:\", max_pos, f\"= [{max_pos_x}, {max_pos_y}]\")\n",
        "print(\"Position of minimum value:\", min_pos, f\"= [{min_pos_x}, {min_pos_y}]\")\n",
        "\n",
        "print(\"Positions of maximum value along all the columns is:\", max_pos_col)\n",
        "print(\"Positions of maximum value along all the rows is:\", max_pos_row)\n"
      ]
    },
    {
      "cell_type": "markdown",
      "metadata": {
        "id": "c6EJuS1SbEuX"
      },
      "source": [
        "Numpy Arrays vs. Python Lists?\n",
        "\n",
        "    Why the need for numpy arrays? Can't we just use Python lists?\n",
        "    Iterating over numpy arrays is slow. Slicing is faster\n",
        "\n",
        "Python lists may contain items of different types. This flexibility comes at a price: Python lists store pointers to memory locations. On the other hand, numpy arrays are typed, where the default type is floating point. Because of this, the system knows how much memory to allocate, and if you ask for an array of size 100, it will allocate one hundred contiguous spots in memory, where the size of each spot is based on the type. This makes access extremely fast.\n",
        "\n",
        "If you want to know more, we will suggest that you read this from [Jake Vanderplas's Data Science Handbook](https://jakevdp.github.io/PythonDataScienceHandbook/). You will find that book an incredible resource for learning numpy, pandas and plotting. All the lessons are available as colab notebooks so that u can try out the commands on your own.\n"
      ]
    }
  ],
  "metadata": {
    "colab": {
      "include_colab_link": true,
      "provenance": [],
      "toc_visible": true
    },
    "kernelspec": {
      "display_name": "Python 3",
      "name": "python3"
    },
    "language_info": {
      "codemirror_mode": {
        "name": "ipython",
        "version": 3
      },
      "file_extension": ".py",
      "mimetype": "text/x-python",
      "name": "python",
      "nbconvert_exporter": "python",
      "pygments_lexer": "ipython3",
      "version": "3.12.2"
    }
  },
  "nbformat": 4,
  "nbformat_minor": 0
}
