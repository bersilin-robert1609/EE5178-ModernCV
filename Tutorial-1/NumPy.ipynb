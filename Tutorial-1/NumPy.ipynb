{
  "cells": [
    {
      "cell_type": "markdown",
      "metadata": {
        "colab_type": "text",
        "id": "view-in-github"
      },
      "source": [
        "<a href=\"https://colab.research.google.com/github/Rohith-Rongali/EE5179-2023/blob/main/Tutorials/Tutorial-1/NumPy.ipynb\" target=\"_parent\"><img src=\"https://colab.research.google.com/assets/colab-badge.svg\" alt=\"Open In Colab\"/></a>"
      ]
    },
    {
      "cell_type": "code",
      "execution_count": null,
      "metadata": {
        "id": "alrXoCflGKM8"
      },
      "outputs": [],
      "source": [
        "import numpy as np\n",
        "print(np.__version__)\n",
        "import matplotlib.pylab as plt"
      ]
    },
    {
      "cell_type": "markdown",
      "metadata": {
        "id": "C6DUK8dwjExh"
      },
      "source": [
        "# Numpy Basics:\n"
      ]
    },
    {
      "cell_type": "markdown",
      "metadata": {
        "id": "9x-UquUqkMWs"
      },
      "source": [
        "**Exercise #1:** Creating a numpy array with particular value\n",
        "\n",
        "**Your Task** Create a numpy array with size 2*3 with all elements as 5."
      ]
    },
    {
      "cell_type": "code",
      "execution_count": null,
      "metadata": {
        "id": "jyhhYUA4kpqj"
      },
      "outputs": [],
      "source": [
        "# YOUR CODE STARTS HERE\n",
        "\n",
        "# YOUR CODE ENDS HERE\n",
        "print(arr)"
      ]
    },
    {
      "cell_type": "markdown",
      "metadata": {
        "id": "5NaczYqflEd5"
      },
      "source": [
        "**Exercise #2:** Creating a numpy array with *random* value\n",
        "\n",
        "**Your Task** Create a numpy array with size 2*3 with all random values"
      ]
    },
    {
      "cell_type": "code",
      "execution_count": null,
      "metadata": {
        "id": "9H2HQNC9lL-0"
      },
      "outputs": [],
      "source": [
        "# YOUR CODE STARTS HERE\n",
        "\n",
        "# YOUR CODE ENDS HERE\n",
        "print(rand_arr)"
      ]
    },
    {
      "cell_type": "markdown",
      "metadata": {
        "id": "uT4LJPBFldNc"
      },
      "source": [
        "**Exercise #3:** Basic NumPy operatrions\n",
        "\n",
        "**Your Task** For the random array `arr`defined above, find the `sum` of all the elements, `mean`, `maximum` and `minimum` value"
      ]
    },
    {
      "cell_type": "code",
      "execution_count": null,
      "metadata": {
        "id": "UDrDaAK4l5gq"
      },
      "outputs": [],
      "source": [
        "#YOUR CODE STARTS HERE\n",
        "\n",
        "#YOUR CODE ENDS HERE\n",
        "\n",
        "print(f'sum: {arr_sum}\\nmean: {arr_mean}\\nmax: {arr_max}\\nmin:{arr_min}')"
      ]
    },
    {
      "cell_type": "markdown",
      "metadata": {
        "id": "JzoFSwHjl3dW"
      },
      "source": [
        "**Exercise #4:** `argmin` and `argmax`\n",
        "\n",
        "**Your Task** For the random array `arr`defined below:\n",
        "\n",
        "*   Find the position of maximum and minimum value of above array\n",
        "*   Find the indices of maximum and minimum value along each of its columns.\n",
        "*   Find the indices of maximum and minimum value along each of the its rows.\n",
        "\n"
      ]
    },
    {
      "cell_type": "code",
      "execution_count": null,
      "metadata": {
        "id": "VBawwx5KmpZR"
      },
      "outputs": [],
      "source": [
        "# Define an array\n",
        "arr = np.array([[5,12,51,25] ,[25,29,2,27]])\n",
        "print(f'Array:\\n{arr}\\n')\n",
        "# YOUR CODE STARTS HERE\n",
        "#Find the position of maximum and minimum value of above array\n",
        "\n",
        "#Find the indices of maximum and minimum value along each of its columns.\n",
        "\n",
        "#Find the indices of maximum and minimum value along each of the its rows.\n",
        "\n",
        "#YOUR CODE ENDS HERE"
      ]
    },
    {
      "cell_type": "markdown",
      "metadata": {
        "id": "c6EJuS1SbEuX"
      },
      "source": [
        "Numpy Arrays vs. Python Lists?\n",
        "\n",
        "    Why the need for numpy arrays? Can't we just use Python lists?\n",
        "    Iterating over numpy arrays is slow. Slicing is faster\n",
        "\n",
        "Python lists may contain items of different types. This flexibility comes at a price: Python lists store pointers to memory locations. On the other hand, numpy arrays are typed, where the default type is floating point. Because of this, the system knows how much memory to allocate, and if you ask for an array of size 100, it will allocate one hundred contiguous spots in memory, where the size of each spot is based on the type. This makes access extremely fast.\n",
        "\n",
        "\n",
        "If you want to know more, we will suggest that you read this from [Jake Vanderplas's Data Science Handbook](https://jakevdp.github.io/PythonDataScienceHandbook/). You will find that book an incredible resource for learning numpy, pandas and plotting. All the lessons are available as colab notebooks so that u can try out the commands on your own."
      ]
    }
  ],
  "metadata": {
    "colab": {
      "include_colab_link": true,
      "provenance": [],
      "toc_visible": true
    },
    "kernelspec": {
      "display_name": "Python 3",
      "name": "python3"
    },
    "language_info": {
      "name": "python",
      "version": "3.12.1"
    }
  },
  "nbformat": 4,
  "nbformat_minor": 0
}
