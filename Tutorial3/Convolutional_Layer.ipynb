{
  "cells": [
    {
      "cell_type": "markdown",
      "metadata": {
        "id": "6yNPwtRFQj0Y"
      },
      "source": [
        "# Convolutional Neural Networks: Step by Step\n",
        "\n",
        "In this tutorial, you will implement a convolutional (CONV) layer in numpy (just the forward propagation).\n",
        "\n",
        "**Notation**:\n",
        "- Superscript $[l]$ denotes an object of the $l^{th}$ layer.\n",
        "    - Example: $a^{[4]}$ is the $4^{th}$ layer activation. $W^{[5]}$ and $b^{[5]}$ are the $5^{th}$ layer parameters.\n",
        "\n",
        "\n",
        "- Superscript $(i)$ denotes an object from the $i^{th}$ example.\n",
        "    - Example: $x^{(i)}$ is the $i^{th}$ training example input.\n",
        "    \n",
        "    \n",
        "- Subscript $i$ denotes the $i^{th}$ entry of a vector.\n",
        "    - Example: $a^{[l]}_i$ denotes the $i^{th}$ entry of the activations in layer $l$, assuming this is a fully connected (FC) layer.\n",
        "    \n",
        "    \n",
        "- $n_H$, $n_W$ and $n_C$ denote respectively the height, width and number of channels of a given layer. If you want to reference a specific layer $l$, you can also write $n_H^{[l]}$, $n_W^{[l]}$, $n_C^{[l]}$.\n",
        "- $n_{H_{prev}}$, $n_{W_{prev}}$ and $n_{C_{prev}}$ denote respectively the height, width and number of channels of the previous layer. If referencing a specific layer $l$, this could also be denoted $n_H^{[l-1]}$, $n_W^{[l-1]}$, $n_C^{[l-1]}$.\n",
        "\n",
        "We assume that you are already familiar with `numpy` and/or have completed the previous courses of the specialization. Let's get started!"
      ]
    },
    {
      "cell_type": "code",
      "execution_count": 42,
      "metadata": {
        "id": "2IRt_najQj0d"
      },
      "outputs": [
        {
          "name": "stdout",
          "output_type": "stream",
          "text": [
            "The autoreload extension is already loaded. To reload it, use:\n",
            "  %reload_ext autoreload\n"
          ]
        }
      ],
      "source": [
        "import numpy as np\n",
        "import h5py\n",
        "import matplotlib.pyplot as plt\n",
        "\n",
        "%matplotlib inline\n",
        "plt.rcParams['figure.figsize'] = (5.0, 4.0) # set default size of plots\n",
        "plt.rcParams['image.interpolation'] = 'nearest'\n",
        "plt.rcParams['image.cmap'] = 'gray'\n",
        "\n",
        "%load_ext autoreload\n",
        "%autoreload 2\n",
        "\n",
        "np.random.seed(1)"
      ]
    },
    {
      "cell_type": "markdown",
      "metadata": {
        "id": "67Q49xkwQj0f"
      },
      "source": [
        "## 2 - Outline of the Assignment\n",
        "\n",
        "You will be implementing the building blocks of a convolutional neural network!\n",
        "\n",
        "Convolution functions:\n",
        "  - Zero Padding\n",
        "  - Convolve window\n",
        "  - Convolution forward"
      ]
    },
    {
      "cell_type": "markdown",
      "metadata": {
        "id": "47iafMWVQj0g"
      },
      "source": [
        "## 3 - Convolutional Neural Networks\n",
        "\n",
        "A convolution layer transforms an input volume into an output volume of different size, as shown below.\n",
        "\n",
        "<img src=\"https://raw.githubusercontent.com/SanVik2000/EE5179-Final/main/Tutorial-5/conv_nn.png\" style=\"width:350px;height:200px;\">\n",
        "\n",
        "In this part, you will build every step of the convolution layer. You will first implement two helper functions: one for zero padding and the other for computing the convolution function itself."
      ]
    },
    {
      "cell_type": "markdown",
      "metadata": {
        "id": "VIZvi-y5Qj0g"
      },
      "source": [
        "### 3.1 - Zero-Padding\n",
        "\n",
        "Zero-padding adds zeros around the border of an image:\n",
        "\n",
        "<img src=\"https://raw.githubusercontent.com/SanVik2000/EE5179-Final/main/Tutorial-5/PAD.png\" style=\"width:600px;height:400px;\">\n",
        "\n",
        "**Exercise**: Implement the following function, which pads all the images of a batch of examples X with zeros. [Use np.pad](https://docs.scipy.org/doc/numpy/reference/generated/numpy.pad.html). Note if you want to pad the array \"a\" of shape $(5,5,5,5,5)$ with `pad = 1` for the 2nd dimension, `pad = 3` for the 4th dimension and `pad = 0` for the rest, you would do:\n",
        "```python\n",
        "a = np.pad(a, ((0,0), (1,1), (0,0), (3,3), (0,0)), mode='constant', constant_values = (0,0))\n",
        "```"
      ]
    },
    {
      "cell_type": "code",
      "execution_count": 43,
      "metadata": {
        "id": "WaODPGTqQj0h"
      },
      "outputs": [],
      "source": [
        "# GRADED FUNCTION: zero_pad\n",
        "\n",
        "def zero_pad(X, pad):\n",
        "    \"\"\"\n",
        "    Argument:\n",
        "    X -- python numpy array of shape (m, n_H, n_W, n_C) representing a batch of m images\n",
        "    pad -- integer, amount of padding around each image on vertical and horizontal dimensions\n",
        "\n",
        "    Returns:\n",
        "    X_pad -- padded image of shape (m, n_H + 2*pad, n_W + 2*pad, n_C)\n",
        "    \"\"\"\n",
        "\n",
        "    ### START CODE HERE ### (≈ 1 line)\n",
        "    X_pad = np.pad(X, ((0, 0), (pad, pad), (pad, pad), (0, 0)), mode='constant', constant_values=(0, 0))\n",
        "    ### END CODE HERE ###\n",
        "\n",
        "    return X_pad"
      ]
    },
    {
      "cell_type": "code",
      "execution_count": 44,
      "metadata": {
        "id": "Zm-yxeXCQj0i"
      },
      "outputs": [
        {
          "name": "stdout",
          "output_type": "stream",
          "text": [
            "x.shape =\n",
            " (4, 3, 3, 2)\n",
            "x_pad.shape =\n",
            " (4, 7, 7, 2)\n",
            "x[1,1] =\n",
            " [[ 0.90085595 -0.68372786]\n",
            " [-0.12289023 -0.93576943]\n",
            " [-0.26788808  0.53035547]]\n",
            "x_pad[1,1] =\n",
            " [[0. 0.]\n",
            " [0. 0.]\n",
            " [0. 0.]\n",
            " [0. 0.]\n",
            " [0. 0.]\n",
            " [0. 0.]\n",
            " [0. 0.]]\n"
          ]
        },
        {
          "data": {
            "text/plain": [
              "<matplotlib.image.AxesImage at 0x7ff595fb5280>"
            ]
          },
          "execution_count": 44,
          "metadata": {},
          "output_type": "execute_result"
        },
        {
          "data": {
            "image/png": "[encoded data removed]",
            "text/plain": [
              "<Figure size 500x400 with 2 Axes>"
            ]
          },
          "metadata": {},
          "output_type": "display_data"
        }
      ],
      "source": [
        "np.random.seed(1)\n",
        "x = np.random.randn(4, 3, 3, 2)\n",
        "x_pad = zero_pad(x, 2)\n",
        "print (\"x.shape =\\n\", x.shape)\n",
        "print (\"x_pad.shape =\\n\", x_pad.shape)\n",
        "print (\"x[1,1] =\\n\", x[1,1])\n",
        "print (\"x_pad[1,1] =\\n\", x_pad[1,1])\n",
        "\n",
        "fig, axarr = plt.subplots(1, 2)\n",
        "axarr[0].set_title('x')\n",
        "axarr[0].imshow(x[0,:,:,0])\n",
        "axarr[1].set_title('x_pad')\n",
        "axarr[1].imshow(x_pad[0,:,:,0])"
      ]
    },
    {
      "cell_type": "markdown",
      "metadata": {
        "id": "YdtBDgM3Qj0j"
      },
      "source": [
        "**Expected Output**:\n",
        "\n",
        "```\n",
        "x.shape =\n",
        " (4, 3, 3, 2)\n",
        "x_pad.shape =\n",
        " (4, 7, 7, 2)\n",
        "x[1,1] =\n",
        " [[ 0.90085595 -0.68372786]\n",
        " [-0.12289023 -0.93576943]\n",
        " [-0.26788808  0.53035547]]\n",
        "x_pad[1,1] =\n",
        " [[ 0.  0.]\n",
        " [ 0.  0.]\n",
        " [ 0.  0.]\n",
        " [ 0.  0.]\n",
        " [ 0.  0.]\n",
        " [ 0.  0.]\n",
        " [ 0.  0.]]\n",
        "```"
      ]
    },
    {
      "cell_type": "markdown",
      "metadata": {
        "id": "FhRMEjJLQj0k"
      },
      "source": [
        "### 3.2 - Single step of convolution\n",
        "\n",
        "In this part, implement a single step of convolution, in which you apply the filter to a single position of the input. This will be used to build a convolutional unit, which:\n",
        "\n",
        "- Takes an input volume\n",
        "- Applies a filter at every position of the input\n",
        "- Outputs another volume (usually of different size)\n",
        "\n",
        "<img src=\"https://raw.githubusercontent.com/SanVik2000/EE5179-Final/main/Tutorial-5/Convolution_schematic.gif\" style=\"width:500px;height:300px;\">\n",
        "<caption><center> <u> <font color='purple'> **Figure 2** </u><font color='purple'>  : **Convolution operation**<br> with a filter of 3x3 and a stride of 1 (stride = amount you move the window each time you slide) </center></caption>\n",
        "\n",
        "Each value in the matrix on the left corresponds to a single pixel value, and we convolve a 3x3 filter with the image by multiplying its values element-wise with the original matrix, then summing them up and adding a bias. In this first step of the exercise, you will implement a single step of convolution, corresponding to applying a filter to just one of the positions to get a single real-valued output.\n",
        "\n",
        "Later in this notebook, you'll apply this function to multiple positions of the input to implement the full convolutional operation.\n",
        "\n",
        "**Exercise**: Implement conv_single_step(). [Hint](https://docs.scipy.org/doc/numpy-1.13.0/reference/generated/numpy.sum.html).\n"
      ]
    },
    {
      "cell_type": "code",
      "execution_count": 45,
      "metadata": {
        "id": "xAA02IJMQj0k"
      },
      "outputs": [],
      "source": [
        "# GRADED FUNCTION: conv_single_step\n",
        "\n",
        "def conv_single_step(a_slice_prev, W, b):\n",
        "    \"\"\"\n",
        "    Arguments:\n",
        "    a_slice_prev -- slice of input data of shape (f, f, n_C_prev)\n",
        "    W -- Weight parameters contained in a window - matrix of shape (f, f, n_C_prev)\n",
        "    b -- Bias parameters contained in a window - matrix of shape (1, 1, 1)\n",
        "\n",
        "    Returns:\n",
        "    Z -- a scalar value, the result of convolving the sliding window (W, b) on a slice x of the input data\n",
        "    \"\"\"\n",
        "\n",
        "    ### START CODE HERE ### (≈ 2 lines of code)\n",
        "    # Element-wise product between a_slice_prev and W. Do not add the bias yet.\n",
        "    s = a_slice_prev * W\n",
        "    # Sum over all entries of the volume s.\n",
        "    Z = np.sum(s)\n",
        "    # Add bias b to Z. Cast b to a float() so that Z results in a scalar value.\n",
        "    Z = Z + float(b[0][0][0])\n",
        "    ### END CODE HERE ###\n",
        "\n",
        "    return Z"
      ]
    },
    {
      "cell_type": "code",
      "execution_count": 46,
      "metadata": {
        "id": "CWscC-3FQj0l"
      },
      "outputs": [
        {
          "name": "stdout",
          "output_type": "stream",
          "text": [
            "Z = -6.999089450680221\n"
          ]
        }
      ],
      "source": [
        "np.random.seed(1)\n",
        "a_slice_prev = np.random.randn(4, 4, 3)\n",
        "W = np.random.randn(4, 4, 3)\n",
        "b = np.random.randn(1, 1, 1)\n",
        "\n",
        "Z = conv_single_step(a_slice_prev, W, b)\n",
        "print(\"Z =\", Z)"
      ]
    },
    {
      "cell_type": "markdown",
      "metadata": {
        "id": "M3i-8m-sQj0l"
      },
      "source": [
        "**Expected Output**:\n",
        "<table>\n",
        "    <tr>\n",
        "        <td>\n",
        "            **Z**\n",
        "        </td>\n",
        "        <td>\n",
        "            -6.99908945068\n",
        "        </td>\n",
        "    </tr>\n",
        "\n",
        "</table>"
      ]
    },
    {
      "cell_type": "markdown",
      "metadata": {
        "id": "s0XJf92eQj0m"
      },
      "source": [
        "### 3.3 - Convolutional Neural Networks - Forward pass\n",
        "\n",
        "In the forward pass, you will take many filters and convolve them on the input. Each 'convolution' gives you a 2D matrix output. You will then stack these outputs to get a 3D volume\n",
        "\n",
        "**Exercise**:\n",
        "Implement the function below to convolve the filters `W` on an input activation `A_prev`.  \n",
        "This function takes the following inputs:\n",
        "* `A_prev`, the activations output by the previous layer (for a batch of m inputs);\n",
        "* Weights are denoted by `W`.  The filter window size is `f` by `f`.\n",
        "* The bias vector is `b`, where each filter has its own (single) bias.\n",
        "\n",
        "Finally you also have access to the hyperparameters dictionary which contains the stride and the padding.\n",
        "\n",
        "**Hint**:\n",
        "1. To select a 2x2 slice at the upper left corner of a matrix \"a_prev\" (shape (5,5,3)), you would do:\n",
        "```python\n",
        "a_slice_prev = a_prev[0:2,0:2,:]\n",
        "```\n",
        "Notice how this gives a 3D slice that has height 2, width 2, and depth 3.  Depth is the number of channels.  \n",
        "This will be useful when you will define `a_slice_prev` below, using the `start/end` indexes you will define.\n",
        "2. To define a_slice you will need to first define its corners `vert_start`, `vert_end`, `horiz_start` and `horiz_end`. This figure may be helpful for you to find out how each of the corner can be defined using h, w, f and s in the code below.\n",
        "\n",
        "<img src=\"https://raw.githubusercontent.com/SanVik2000/EE5179-Final/main/Tutorial-5/vert_horiz_kiank.png\" style=\"width:400px;height:300px;\">\n",
        "<caption><center> <u> <font color='purple'> **Figure 3** </u><font color='purple'>  : **Definition of a slice using vertical and horizontal start/end (with a 2x2 filter)** <br> This figure shows only a single channel.  </center></caption>\n",
        "\n",
        "\n",
        "**Reminder**:\n",
        "The formulas relating the output shape of the convolution to the input shape is:\n",
        "$$ n_H = \\lfloor \\frac{n_{H_{prev}} - f + 2 \\times pad}{stride} \\rfloor +1 $$\n",
        "$$ n_W = \\lfloor \\frac{n_{W_{prev}} - f + 2 \\times pad}{stride} \\rfloor +1 $$\n",
        "$$ n_C = \\text{number of filters used in the convolution}$$\n",
        "\n",
        "For this exercise, we won't worry about vectorization, and will just implement everything with for-loops."
      ]
    },
    {
      "cell_type": "code",
      "execution_count": 47,
      "metadata": {
        "id": "7fY_dAntQj0m"
      },
      "outputs": [],
      "source": [
        "# GRADED FUNCTION: conv_forward\n",
        "\n",
        "def conv_forward(A_prev, W, b, hparameters):\n",
        "    \"\"\"\n",
        "    Arguments:\n",
        "    A_prev -- output activations of the previous layer,\n",
        "        numpy array of shape (m, n_H_prev, n_W_prev, n_C_prev)\n",
        "    W -- Weights, numpy array of shape (f, f, n_C_prev, n_C)\n",
        "    b -- Biases, numpy array of shape (1, 1, 1, n_C)\n",
        "    hparameters -- python dictionary containing \"stride\" and \"pad\"\n",
        "\n",
        "    Returns:\n",
        "    Z -- conv output, numpy array of shape (m, n_H, n_W, n_C)\n",
        "    cache -- cache of values needed for the conv_backward() function\n",
        "    \"\"\"\n",
        "\n",
        "    ### START CODE HERE ###\n",
        "    # Retrieve dimensions from A_prev's shape (≈1 line)\n",
        "    (m, n_H_prev, n_W_prev, n_C_prev) = A_prev.shape[0], A_prev.shape[1], A_prev.shape[2], A_prev.shape[3]\n",
        "\n",
        "    # Retrieve dimensions from W's shape (≈1 line)\n",
        "    (f, f, n_C_prev, n_C) = W.shape[0], W.shape[1], W.shape[2], W.shape[3]\n",
        "\n",
        "    # Retrieve information from \"hparameters\" (≈2 lines)\n",
        "    stride = hparameters[\"stride\"]\n",
        "    pad = hparameters[\"pad\"]\n",
        "\n",
        "    # Compute the dimensions of the CONV output volume using the formula given above.\n",
        "    # Hint: use int() to apply the 'floor' operation. (≈2 lines)\n",
        "    n_H = int(int((n_H_prev + 2*pad - f)/stride) + 1)\n",
        "    n_W = int(int((n_W_prev + 2*pad - f)/stride) + 1)\n",
        "\n",
        "    # Initialize the output volume Z with zeros. (≈1 line)\n",
        "    Z = np.zeros([m, n_H, n_W, n_C])\n",
        "\n",
        "    # Create A_prev_pad by padding A_prev\n",
        "    A_prev_pad = zero_pad(A_prev, pad)\n",
        "\n",
        "    for i in range(m):                  # loop over the batch of training examples\n",
        "        a_prev_pad = A_prev_pad[i]      # Select ith training example's padded activation\n",
        "        for h in range(n_H):           # loop over vertical axis of the output volume\n",
        "            # Find the vertical start and end of the current \"slice\" (≈2 lines)\n",
        "            vert_start = h * stride\n",
        "            vert_end = h * stride + f\n",
        "\n",
        "            for w in range(n_W):       # loop over horizontal axis of the output volume\n",
        "                # Find the horizontal start and end of the current \"slice\" (≈2 lines)\n",
        "                horiz_start = stride * w\n",
        "                horiz_end = stride * w + f\n",
        "\n",
        "                for c in range(n_C):   # loop over channels (= #filters) of the output volume\n",
        "\n",
        "                    # Use the corners to define the (3D) slice of a_prev_pad (See Hint above the cell). (≈1 line)\n",
        "                    a_slice_prev = a_prev_pad[vert_start:vert_end, horiz_start:horiz_end, :]\n",
        "\n",
        "                    # Convolve the (3D) slice with the correct filter W and bias b, to get back one output neuron. (≈3 line)\n",
        "                    weights = W[:, :, :, c]\n",
        "                    biases = b[:, :, :, c]\n",
        "                    Z[i, h, w, c] = conv_single_step(a_slice_prev=a_slice_prev, W=weights, b=biases)\n",
        "\n",
        "    ### END CODE HERE ###\n",
        "\n",
        "    # Making sure your output shape is correct\n",
        "    assert(Z.shape == (m, n_H, n_W, n_C))\n",
        "\n",
        "    # Save information in \"cache\" for the backprop\n",
        "    cache = (A_prev, W, b, hparameters)\n",
        "\n",
        "    return Z, cache"
      ]
    },
    {
      "cell_type": "code",
      "execution_count": 48,
      "metadata": {
        "id": "o_cbaZkLQj0m"
      },
      "outputs": [
        {
          "name": "stdout",
          "output_type": "stream",
          "text": [
            "Z's mean =\n",
            " 0.6923608807576933\n",
            "Z[3,2,1] =\n",
            " [-1.28912231  2.27650251  6.61941931  0.95527176  8.25132576  2.31329639\n",
            " 13.00689405  2.34576051]\n",
            "cache_conv[0][1][2][3] =\n",
            " [-1.1191154   1.9560789  -0.3264995  -1.34267579]\n"
          ]
        }
      ],
      "source": [
        "np.random.seed(1)\n",
        "A_prev = np.random.randn(10,5,7,4)\n",
        "W = np.random.randn(3,3,4,8)\n",
        "b = np.random.randn(1,1,1,8)\n",
        "hparameters = {\"pad\" : 1,\n",
        "               \"stride\": 2}\n",
        "\n",
        "Z, cache_conv = conv_forward(A_prev, W, b, hparameters)\n",
        "print(\"Z's mean =\\n\", np.mean(Z))\n",
        "print(\"Z[3,2,1] =\\n\", Z[3,2,1])\n",
        "print(\"cache_conv[0][1][2][3] =\\n\", cache_conv[0][1][2][3])"
      ]
    },
    {
      "cell_type": "markdown",
      "metadata": {
        "id": "3zkAx5idQj0n"
      },
      "source": [
        "**Expected Output**:\n",
        "```\n",
        "Z's mean =\n",
        " 0.692360880758\n",
        "Z[3,2,1] =\n",
        " [ -1.28912231   2.27650251   6.61941931   0.95527176   8.25132576\n",
        "   2.31329639  13.00689405   2.34576051]\n",
        "cache_conv[0][1][2][3] = [-1.1191154   1.9560789  -0.3264995  -1.34267579]\n",
        "```"
      ]
    },
    {
      "cell_type": "markdown",
      "metadata": {
        "id": "UuHEHYU8Qj0n"
      },
      "source": [
        "Finally, CONV layer should also contain an activation, in which case we would add the following line of code:\n",
        "\n",
        "```python\n",
        "# Convolve the window to get back one output neuron\n",
        "Z[i, h, w, c] = ...\n",
        "# Apply activation\n",
        "A[i, h, w, c] = activation(Z[i, h, w, c])\n",
        "```\n",
        "\n",
        "You don't need to do it here.\n"
      ]
    },
    {
      "cell_type": "markdown",
      "metadata": {
        "id": "5Z89YSKQQj0n"
      },
      "source": [
        "## 4 - Pooling layer\n",
        "\n",
        "The pooling (POOL) layer reduces the height and width of the input. It helps reduce computation, as well as helps make feature detectors more invariant to its position in the input. The two types of pooling layers are:\n",
        "\n",
        "- Max-pooling layer: slides an ($f, f$) window over the input and stores the max value of the window in the output.\n",
        "\n",
        "- Average-pooling layer: slides an ($f, f$) window over the input and stores the average value of the window in the output.\n",
        "\n",
        "<table>\n",
        "<td>\n",
        "<img src=\"https://raw.githubusercontent.com/SanVik2000/EE5179-Final/main/Tutorial-5/max_pool1.png\" style=\"width:500px;height:300px;\">\n",
        "<td>\n",
        "\n",
        "<td>\n",
        "<img src=\"https://raw.githubusercontent.com/SanVik2000/EE5179-Final/main/Tutorial-5/a_pool.png\" style=\"width:500px;height:300px;\">\n",
        "<td>\n",
        "</table>\n",
        "\n",
        "These pooling layers have no parameters for backpropagation to train. However, they have hyperparameters such as the window size $f$. This specifies the height and width of the $f \\times f$ window you would compute a *max* or *average* over.\n",
        "\n",
        "### 4.1 - Forward Pooling\n",
        "Now, you are going to implement MAX-POOL and AVG-POOL, in the same function.\n",
        "\n",
        "**Exercise**: Implement the forward pass of the pooling layer. Follow the hints in the comments below.\n",
        "\n",
        "**Reminder**:\n",
        "As there's no padding, the formulas binding the output shape of the pooling to the input shape is:\n",
        "\n",
        "$$ n_H = \\lfloor \\frac{n_{H_{prev}} - f}{stride} \\rfloor +1 $$\n",
        "\n",
        "$$ n_W = \\lfloor \\frac{n_{W_{prev}} - f}{stride} \\rfloor +1 $$\n",
        "\n",
        "$$ n_C = n_{C_{prev}}$$"
      ]
    },
    {
      "cell_type": "code",
      "execution_count": 49,
      "metadata": {
        "id": "nk7_IvRyQj0n"
      },
      "outputs": [],
      "source": [
        "# GRADED FUNCTION: pool_forward\n",
        "\n",
        "def pool_forward(A_prev, hparameters, mode = \"max\"):\n",
        "    \"\"\"\n",
        "    Implements the forward pass of the pooling layer\n",
        "\n",
        "    Arguments:\n",
        "    A_prev -- Input data, numpy array of shape (m, n_H_prev, n_W_prev, n_C_prev)\n",
        "    hparameters -- python dictionary containing \"f\" and \"stride\"\n",
        "    mode -- the pooling mode you would like to use, defined as a string (\"max\" or \"average\")\n",
        "\n",
        "    Returns:\n",
        "    A -- output of the pool layer, a numpy array of shape (m, n_H, n_W, n_C)\n",
        "    cache -- cache used in the backward pass of the pooling layer, contains the input and hparameters\n",
        "    \"\"\"\n",
        "\n",
        "    # Retrieve dimensions from the input shape\n",
        "    (m, n_H_prev, n_W_prev, n_C_prev) = A_prev.shape\n",
        "\n",
        "    # Retrieve hyperparameters from \"hparameters\"\n",
        "    f = hparameters[\"f\"]\n",
        "    stride = hparameters[\"stride\"]\n",
        "\n",
        "    # Define the dimensions of the output\n",
        "    n_H = int(1 + (n_H_prev - f) / stride)\n",
        "    n_W = int(1 + (n_W_prev - f) / stride)\n",
        "    n_C = n_C_prev\n",
        "\n",
        "    # Initialize output matrix A\n",
        "    A = np.zeros((m, n_H, n_W, n_C))\n",
        "\n",
        "    ### START CODE HERE ###\n",
        "    for i in range(m):                         # loop over the training examples\n",
        "        for h in range(n_H):                     # loop on the vertical axis of the output volume\n",
        "            # Find the vertical start and end of the current \"slice\" (≈2 lines)\n",
        "            vert_start = h * stride\n",
        "            vert_end = h * stride + f\n",
        "\n",
        "            for w in range(n_W):                 # loop on the horizontal axis of the output volume\n",
        "                # Find the vertical start and end of the current \"slice\" (≈2 lines)\n",
        "                horiz_start = w * stride\n",
        "                horiz_end = w * stride + f\n",
        "\n",
        "                for c in range (n_C):            # loop over the channels of the output volume\n",
        "\n",
        "                    # Use the corners to define the current slice on the ith training example of A_prev, channel c. (≈1 line)\n",
        "                    a_prev_slice = A_prev[i, vert_start:vert_end, horiz_start:horiz_end, c]\n",
        "\n",
        "                    # Compute the pooling operation on the slice.\n",
        "                    # Use an if statement to differentiate the modes.\n",
        "                    # Use np.max and np.mean.\n",
        "                    if mode == \"max\":\n",
        "                        A[i, h, w, c] = np.max(a_prev_slice)\n",
        "                    elif mode == \"average\":\n",
        "                        A[i, h, w, c] = np.mean(a_prev_slice)\n",
        "\n",
        "    ### END CODE HERE ###\n",
        "\n",
        "    # Store the input and hparameters in \"cache\" for pool_backward()\n",
        "    cache = (A_prev, hparameters)\n",
        "\n",
        "    # Making sure your output shape is correct\n",
        "    assert(A.shape == (m, n_H, n_W, n_C))\n",
        "\n",
        "    return A, cache"
      ]
    },
    {
      "cell_type": "code",
      "execution_count": 50,
      "metadata": {
        "id": "rfE6wLEIQj0o"
      },
      "outputs": [
        {
          "name": "stdout",
          "output_type": "stream",
          "text": [
            "mode = max\n",
            "A.shape = (2, 3, 3, 3)\n",
            "A =\n",
            " [[[[1.74481176 0.90159072 1.65980218]\n",
            "   [1.74481176 1.46210794 1.65980218]\n",
            "   [1.74481176 1.6924546  1.65980218]]\n",
            "\n",
            "  [[1.14472371 0.90159072 2.10025514]\n",
            "   [1.14472371 0.90159072 1.65980218]\n",
            "   [1.14472371 1.6924546  1.65980218]]\n",
            "\n",
            "  [[1.13162939 1.51981682 2.18557541]\n",
            "   [1.13162939 1.51981682 2.18557541]\n",
            "   [1.13162939 1.6924546  2.18557541]]]\n",
            "\n",
            "\n",
            " [[[1.19891788 0.84616065 0.82797464]\n",
            "   [0.69803203 0.84616065 1.2245077 ]\n",
            "   [0.69803203 1.12141771 1.2245077 ]]\n",
            "\n",
            "  [[1.96710175 0.84616065 1.27375593]\n",
            "   [1.96710175 0.84616065 1.23616403]\n",
            "   [1.62765075 1.12141771 1.2245077 ]]\n",
            "\n",
            "  [[1.96710175 0.86888616 1.27375593]\n",
            "   [1.96710175 0.86888616 1.23616403]\n",
            "   [1.62765075 1.12141771 0.79280687]]]]\n",
            "\n",
            "mode = average\n",
            "A.shape = (2, 3, 3, 3)\n",
            "A =\n",
            " [[[[-3.01046719e-02 -3.24021315e-03 -3.36298859e-01]\n",
            "   [ 1.43310483e-01  1.93146751e-01 -4.44905196e-01]\n",
            "   [ 1.28934436e-01  2.22428468e-01  1.25067597e-01]]\n",
            "\n",
            "  [[-3.81801899e-01  1.59993515e-02  1.70562706e-01]\n",
            "   [ 4.73707165e-02  2.59244658e-02  9.20338402e-02]\n",
            "   [ 3.97048605e-02  1.57189094e-01  3.45302489e-01]]\n",
            "\n",
            "  [[-3.82680519e-01  2.32579951e-01  6.25997903e-01]\n",
            "   [-2.47157416e-01 -3.48524998e-04  3.50539717e-01]\n",
            "   [-9.52551510e-02  2.68511000e-01  4.66056368e-01]]]\n",
            "\n",
            "\n",
            " [[[-1.73134159e-01  3.23771981e-01 -3.43175716e-01]\n",
            "   [ 3.80634669e-02  7.26706274e-02 -2.30268958e-01]\n",
            "   [ 2.03009393e-02  1.41414785e-01 -1.23158476e-02]]\n",
            "\n",
            "  [[ 4.44976963e-01 -2.61694592e-03 -3.10403073e-01]\n",
            "   [ 5.08114737e-01 -2.34937338e-01 -2.39611830e-01]\n",
            "   [ 1.18726772e-01  1.72552294e-01 -2.21121966e-01]]\n",
            "\n",
            "  [[ 4.29449255e-01  8.44699612e-02 -2.72909051e-01]\n",
            "   [ 6.76351685e-01 -1.20138225e-01 -2.44076712e-01]\n",
            "   [ 1.50774518e-01  2.89111751e-01  1.23238536e-03]]]]\n"
          ]
        }
      ],
      "source": [
        "# Case 1: stride of 1\n",
        "np.random.seed(1)\n",
        "A_prev = np.random.randn(2, 5, 5, 3)\n",
        "hparameters = {\"stride\" : 1, \"f\": 3}\n",
        "\n",
        "A, cache = pool_forward(A_prev, hparameters)\n",
        "print(\"mode = max\")\n",
        "print(\"A.shape = \" + str(A.shape))\n",
        "print(\"A =\\n\", A)\n",
        "print()\n",
        "A, cache = pool_forward(A_prev, hparameters, mode = \"average\")\n",
        "print(\"mode = average\")\n",
        "print(\"A.shape = \" + str(A.shape))\n",
        "print(\"A =\\n\", A)"
      ]
    },
    {
      "cell_type": "markdown",
      "metadata": {
        "id": "CThgdF0yQj0o"
      },
      "source": [
        "** Expected Output**\n",
        "```\n",
        "mode = max\n",
        "A.shape = (2, 3, 3, 3)\n",
        "A =\n",
        " [[[[ 1.74481176  0.90159072  1.65980218]\n",
        "   [ 1.74481176  1.46210794  1.65980218]\n",
        "   [ 1.74481176  1.6924546   1.65980218]]\n",
        "\n",
        "  [[ 1.14472371  0.90159072  2.10025514]\n",
        "   [ 1.14472371  0.90159072  1.65980218]\n",
        "   [ 1.14472371  1.6924546   1.65980218]]\n",
        "\n",
        "  [[ 1.13162939  1.51981682  2.18557541]\n",
        "   [ 1.13162939  1.51981682  2.18557541]\n",
        "   [ 1.13162939  1.6924546   2.18557541]]]\n",
        "\n",
        "\n",
        " [[[ 1.19891788  0.84616065  0.82797464]\n",
        "   [ 0.69803203  0.84616065  1.2245077 ]\n",
        "   [ 0.69803203  1.12141771  1.2245077 ]]\n",
        "\n",
        "  [[ 1.96710175  0.84616065  1.27375593]\n",
        "   [ 1.96710175  0.84616065  1.23616403]\n",
        "   [ 1.62765075  1.12141771  1.2245077 ]]\n",
        "\n",
        "  [[ 1.96710175  0.86888616  1.27375593]\n",
        "   [ 1.96710175  0.86888616  1.23616403]\n",
        "   [ 1.62765075  1.12141771  0.79280687]]]]\n",
        "\n",
        "mode = average\n",
        "A.shape = (2, 3, 3, 3)\n",
        "A =\n",
        " [[[[ -3.01046719e-02  -3.24021315e-03  -3.36298859e-01]\n",
        "   [  1.43310483e-01   1.93146751e-01  -4.44905196e-01]\n",
        "   [  1.28934436e-01   2.22428468e-01   1.25067597e-01]]\n",
        "\n",
        "  [[ -3.81801899e-01   1.59993515e-02   1.70562706e-01]\n",
        "   [  4.73707165e-02   2.59244658e-02   9.20338402e-02]\n",
        "   [  3.97048605e-02   1.57189094e-01   3.45302489e-01]]\n",
        "\n",
        "  [[ -3.82680519e-01   2.32579951e-01   6.25997903e-01]\n",
        "   [ -2.47157416e-01  -3.48524998e-04   3.50539717e-01]\n",
        "   [ -9.52551510e-02   2.68511000e-01   4.66056368e-01]]]\n",
        "\n",
        "\n",
        " [[[ -1.73134159e-01   3.23771981e-01  -3.43175716e-01]\n",
        "   [  3.80634669e-02   7.26706274e-02  -2.30268958e-01]\n",
        "   [  2.03009393e-02   1.41414785e-01  -1.23158476e-02]]\n",
        "\n",
        "  [[  4.44976963e-01  -2.61694592e-03  -3.10403073e-01]\n",
        "   [  5.08114737e-01  -2.34937338e-01  -2.39611830e-01]\n",
        "   [  1.18726772e-01   1.72552294e-01  -2.21121966e-01]]\n",
        "\n",
        "  [[  4.29449255e-01   8.44699612e-02  -2.72909051e-01]\n",
        "   [  6.76351685e-01  -1.20138225e-01  -2.44076712e-01]\n",
        "   [  1.50774518e-01   2.89111751e-01   1.23238536e-03]]]]\n",
        "```"
      ]
    },
    {
      "cell_type": "code",
      "execution_count": 51,
      "metadata": {
        "id": "MwyJt09MQj0o"
      },
      "outputs": [
        {
          "name": "stdout",
          "output_type": "stream",
          "text": [
            "mode = max\n",
            "A.shape = (2, 2, 2, 3)\n",
            "A =\n",
            " [[[[1.74481176 0.90159072 1.65980218]\n",
            "   [1.74481176 1.6924546  1.65980218]]\n",
            "\n",
            "  [[1.13162939 1.51981682 2.18557541]\n",
            "   [1.13162939 1.6924546  2.18557541]]]\n",
            "\n",
            "\n",
            " [[[1.19891788 0.84616065 0.82797464]\n",
            "   [0.69803203 1.12141771 1.2245077 ]]\n",
            "\n",
            "  [[1.96710175 0.86888616 1.27375593]\n",
            "   [1.62765075 1.12141771 0.79280687]]]]\n",
            "\n",
            "mode = average\n",
            "A.shape = (2, 2, 2, 3)\n",
            "A =\n",
            " [[[[-0.03010467 -0.00324021 -0.33629886]\n",
            "   [ 0.12893444  0.22242847  0.1250676 ]]\n",
            "\n",
            "  [[-0.38268052  0.23257995  0.6259979 ]\n",
            "   [-0.09525515  0.268511    0.46605637]]]\n",
            "\n",
            "\n",
            " [[[-0.17313416  0.32377198 -0.34317572]\n",
            "   [ 0.02030094  0.14141479 -0.01231585]]\n",
            "\n",
            "  [[ 0.42944926  0.08446996 -0.27290905]\n",
            "   [ 0.15077452  0.28911175  0.00123239]]]]\n"
          ]
        }
      ],
      "source": [
        "# Case 2: stride of 2\n",
        "np.random.seed(1)\n",
        "A_prev = np.random.randn(2, 5, 5, 3)\n",
        "hparameters = {\"stride\" : 2, \"f\": 3}\n",
        "\n",
        "A, cache = pool_forward(A_prev, hparameters)\n",
        "print(\"mode = max\")\n",
        "print(\"A.shape = \" + str(A.shape))\n",
        "print(\"A =\\n\", A)\n",
        "print()\n",
        "\n",
        "A, cache = pool_forward(A_prev, hparameters, mode = \"average\")\n",
        "print(\"mode = average\")\n",
        "print(\"A.shape = \" + str(A.shape))\n",
        "print(\"A =\\n\", A)"
      ]
    },
    {
      "cell_type": "markdown",
      "metadata": {
        "id": "bOApxFoRQj0p"
      },
      "source": [
        "**Expected Output:**\n",
        "    \n",
        "```\n",
        "mode = max\n",
        "A.shape = (2, 2, 2, 3)\n",
        "A =\n",
        " [[[[ 1.74481176  0.90159072  1.65980218]\n",
        "   [ 1.74481176  1.6924546   1.65980218]]\n",
        "\n",
        "  [[ 1.13162939  1.51981682  2.18557541]\n",
        "   [ 1.13162939  1.6924546   2.18557541]]]\n",
        "\n",
        "\n",
        " [[[ 1.19891788  0.84616065  0.82797464]\n",
        "   [ 0.69803203  1.12141771  1.2245077 ]]\n",
        "\n",
        "  [[ 1.96710175  0.86888616  1.27375593]\n",
        "   [ 1.62765075  1.12141771  0.79280687]]]]\n",
        "\n",
        "mode = average\n",
        "A.shape = (2, 2, 2, 3)\n",
        "A =\n",
        " [[[[-0.03010467 -0.00324021 -0.33629886]\n",
        "   [ 0.12893444  0.22242847  0.1250676 ]]\n",
        "\n",
        "  [[-0.38268052  0.23257995  0.6259979 ]\n",
        "   [-0.09525515  0.268511    0.46605637]]]\n",
        "\n",
        "\n",
        " [[[-0.17313416  0.32377198 -0.34317572]\n",
        "   [ 0.02030094  0.14141479 -0.01231585]]\n",
        "\n",
        "  [[ 0.42944926  0.08446996 -0.27290905]\n",
        "   [ 0.15077452  0.28911175  0.00123239]]]]\n",
        "```"
      ]
    }
  ],
  "metadata": {
    "colab": {
      "provenance": []
    },
    "coursera": {
      "course_slug": "convolutional-neural-networks",
      "graded_item_id": "qO8ng",
      "launcher_item_id": "7XDi8"
    },
    "kernelspec": {
      "display_name": "Python 3 (ipykernel)",
      "language": "python",
      "name": "python3"
    },
    "language_info": {
      "codemirror_mode": {
        "name": "ipython",
        "version": 3
      },
      "file_extension": ".py",
      "mimetype": "text/x-python",
      "name": "python",
      "nbconvert_exporter": "python",
      "pygments_lexer": "ipython3",
      "version": "3.12.1"
    }
  },
  "nbformat": 4,
  "nbformat_minor": 0
}
